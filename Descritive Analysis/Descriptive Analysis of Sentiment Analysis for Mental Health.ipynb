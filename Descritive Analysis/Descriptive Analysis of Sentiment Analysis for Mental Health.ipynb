{
 "cells": [
  {
   "cell_type": "markdown",
   "id": "03255842-7ba9-4fa7-aeba-881b55b0a87f",
   "metadata": {},
   "source": [
    "# Descriptive Analysis of Sentiment Analysis for Mental Health Dataset\n",
    "\n",
    "## Introduction\r\n",
    "\r\n",
    "This notebook explores the **Sentiment Analysis for Mental Health** dataset from Kaggle, which contains user-generated textual statements labeled with mental health conditions such as depression, anxiety, stress, and others. The goal is to understand the dataset's structure, class distributions, and key characteristics before building predictive models.\r\n",
    "\r\n",
    "**Descriptive analysis** involves summarizing and visualizing essential features of the dataset, including field types, missing values, label/class distributions, text properties, and example entries. This step provides valuable context for data quality assessment and guides further analysis and modeling decisions."
   ]
  },
  {
   "cell_type": "markdown",
   "id": "0d5ee9d9-6c63-4d76-a5d0-4749d3d023c9",
   "metadata": {},
   "source": [
    "## 1. Importing Libraries"
   ]
  },
  {
   "cell_type": "code",
   "execution_count": 75,
   "id": "be558646-8601-457e-98d0-4627a4538bfb",
   "metadata": {},
   "outputs": [],
   "source": [
    "import pandas as pd\n",
    "import numpy as np\n",
    "import matplotlib.pyplot as plt\n",
    "import seaborn as sns"
   ]
  },
  {
   "cell_type": "markdown",
   "id": "405c262b-d54c-4219-a765-f47ff3ccdb0f",
   "metadata": {},
   "source": [
    "## 2. Loading the Dataset"
   ]
  },
  {
   "cell_type": "code",
   "execution_count": 77,
   "id": "0a14a482-9fd1-4bbd-a8d9-afeb9973ae19",
   "metadata": {},
   "outputs": [],
   "source": [
    "df = pd.read_csv('Sentiment Analysis for Mental Health Dataset.csv')"
   ]
  },
  {
   "cell_type": "markdown",
   "id": "d5af115a-c0c8-4464-9163-54adec11bbff",
   "metadata": {},
   "source": [
    "## 3. Basic Dataset Overview"
   ]
  },
  {
   "cell_type": "code",
   "execution_count": 79,
   "id": "d28fde38-2011-4382-8069-06aac5d9c6a4",
   "metadata": {},
   "outputs": [
    {
     "name": "stdout",
     "output_type": "stream",
     "text": [
      "Shape: (53043, 3)\n",
      "Columns: Index(['Unnamed: 0', 'statement', 'status'], dtype='object')\n"
     ]
    },
    {
     "data": {
      "text/html": [
       "<div>\n",
       "<style scoped>\n",
       "    .dataframe tbody tr th:only-of-type {\n",
       "        vertical-align: middle;\n",
       "    }\n",
       "\n",
       "    .dataframe tbody tr th {\n",
       "        vertical-align: top;\n",
       "    }\n",
       "\n",
       "    .dataframe thead th {\n",
       "        text-align: right;\n",
       "    }\n",
       "</style>\n",
       "<table border=\"1\" class=\"dataframe\">\n",
       "  <thead>\n",
       "    <tr style=\"text-align: right;\">\n",
       "      <th></th>\n",
       "      <th>Unnamed: 0</th>\n",
       "      <th>statement</th>\n",
       "      <th>status</th>\n",
       "    </tr>\n",
       "  </thead>\n",
       "  <tbody>\n",
       "    <tr>\n",
       "      <th>0</th>\n",
       "      <td>0</td>\n",
       "      <td>oh my gosh</td>\n",
       "      <td>Anxiety</td>\n",
       "    </tr>\n",
       "    <tr>\n",
       "      <th>1</th>\n",
       "      <td>1</td>\n",
       "      <td>trouble sleeping, confused mind, restless hear...</td>\n",
       "      <td>Anxiety</td>\n",
       "    </tr>\n",
       "    <tr>\n",
       "      <th>2</th>\n",
       "      <td>2</td>\n",
       "      <td>All wrong, back off dear, forward doubt. Stay ...</td>\n",
       "      <td>Anxiety</td>\n",
       "    </tr>\n",
       "    <tr>\n",
       "      <th>3</th>\n",
       "      <td>3</td>\n",
       "      <td>I've shifted my focus to something else but I'...</td>\n",
       "      <td>Anxiety</td>\n",
       "    </tr>\n",
       "    <tr>\n",
       "      <th>4</th>\n",
       "      <td>4</td>\n",
       "      <td>I'm restless and restless, it's been a month n...</td>\n",
       "      <td>Anxiety</td>\n",
       "    </tr>\n",
       "  </tbody>\n",
       "</table>\n",
       "</div>"
      ],
      "text/plain": [
       "   Unnamed: 0                                          statement   status\n",
       "0           0                                         oh my gosh  Anxiety\n",
       "1           1  trouble sleeping, confused mind, restless hear...  Anxiety\n",
       "2           2  All wrong, back off dear, forward doubt. Stay ...  Anxiety\n",
       "3           3  I've shifted my focus to something else but I'...  Anxiety\n",
       "4           4  I'm restless and restless, it's been a month n...  Anxiety"
      ]
     },
     "execution_count": 79,
     "metadata": {},
     "output_type": "execute_result"
    }
   ],
   "source": [
    "print(\"Shape:\", df.shape)\n",
    "print(\"Columns:\", df.columns)\n",
    "df.head()"
   ]
  },
  {
   "cell_type": "code",
   "execution_count": 80,
   "id": "e5476e42-9ae3-450b-b726-62dbcb4346e3",
   "metadata": {},
   "outputs": [
    {
     "data": {
      "text/html": [
       "<div>\n",
       "<style scoped>\n",
       "    .dataframe tbody tr th:only-of-type {\n",
       "        vertical-align: middle;\n",
       "    }\n",
       "\n",
       "    .dataframe tbody tr th {\n",
       "        vertical-align: top;\n",
       "    }\n",
       "\n",
       "    .dataframe thead th {\n",
       "        text-align: right;\n",
       "    }\n",
       "</style>\n",
       "<table border=\"1\" class=\"dataframe\">\n",
       "  <thead>\n",
       "    <tr style=\"text-align: right;\">\n",
       "      <th></th>\n",
       "      <th>Unnamed: 0</th>\n",
       "      <th>statement</th>\n",
       "      <th>status</th>\n",
       "    </tr>\n",
       "  </thead>\n",
       "  <tbody>\n",
       "    <tr>\n",
       "      <th>count</th>\n",
       "      <td>53043.000000</td>\n",
       "      <td>52681</td>\n",
       "      <td>53043</td>\n",
       "    </tr>\n",
       "    <tr>\n",
       "      <th>unique</th>\n",
       "      <td>NaN</td>\n",
       "      <td>51073</td>\n",
       "      <td>7</td>\n",
       "    </tr>\n",
       "    <tr>\n",
       "      <th>top</th>\n",
       "      <td>NaN</td>\n",
       "      <td>what do you mean?</td>\n",
       "      <td>Normal</td>\n",
       "    </tr>\n",
       "    <tr>\n",
       "      <th>freq</th>\n",
       "      <td>NaN</td>\n",
       "      <td>22</td>\n",
       "      <td>16351</td>\n",
       "    </tr>\n",
       "    <tr>\n",
       "      <th>mean</th>\n",
       "      <td>26521.000000</td>\n",
       "      <td>NaN</td>\n",
       "      <td>NaN</td>\n",
       "    </tr>\n",
       "    <tr>\n",
       "      <th>std</th>\n",
       "      <td>15312.339501</td>\n",
       "      <td>NaN</td>\n",
       "      <td>NaN</td>\n",
       "    </tr>\n",
       "    <tr>\n",
       "      <th>min</th>\n",
       "      <td>0.000000</td>\n",
       "      <td>NaN</td>\n",
       "      <td>NaN</td>\n",
       "    </tr>\n",
       "    <tr>\n",
       "      <th>25%</th>\n",
       "      <td>13260.500000</td>\n",
       "      <td>NaN</td>\n",
       "      <td>NaN</td>\n",
       "    </tr>\n",
       "    <tr>\n",
       "      <th>50%</th>\n",
       "      <td>26521.000000</td>\n",
       "      <td>NaN</td>\n",
       "      <td>NaN</td>\n",
       "    </tr>\n",
       "    <tr>\n",
       "      <th>75%</th>\n",
       "      <td>39781.500000</td>\n",
       "      <td>NaN</td>\n",
       "      <td>NaN</td>\n",
       "    </tr>\n",
       "    <tr>\n",
       "      <th>max</th>\n",
       "      <td>53042.000000</td>\n",
       "      <td>NaN</td>\n",
       "      <td>NaN</td>\n",
       "    </tr>\n",
       "  </tbody>\n",
       "</table>\n",
       "</div>"
      ],
      "text/plain": [
       "          Unnamed: 0          statement  status\n",
       "count   53043.000000              52681   53043\n",
       "unique           NaN              51073       7\n",
       "top              NaN  what do you mean?  Normal\n",
       "freq             NaN                 22   16351\n",
       "mean    26521.000000                NaN     NaN\n",
       "std     15312.339501                NaN     NaN\n",
       "min         0.000000                NaN     NaN\n",
       "25%     13260.500000                NaN     NaN\n",
       "50%     26521.000000                NaN     NaN\n",
       "75%     39781.500000                NaN     NaN\n",
       "max     53042.000000                NaN     NaN"
      ]
     },
     "execution_count": 80,
     "metadata": {},
     "output_type": "execute_result"
    }
   ],
   "source": [
    "df.describe(include=\"all\")"
   ]
  },
  {
   "cell_type": "markdown",
   "id": "0c7c4ba5-94a9-4b27-a4ed-19724350a768",
   "metadata": {},
   "source": [
    "## 4. Checking for Missing Values"
   ]
  },
  {
   "cell_type": "code",
   "execution_count": 82,
   "id": "4d9a61bb-3a35-4358-be5e-2ff814a1acba",
   "metadata": {},
   "outputs": [
    {
     "name": "stdout",
     "output_type": "stream",
     "text": [
      "Missing Values:\n",
      "Unnamed: 0      0\n",
      "statement     362\n",
      "status          0\n",
      "dtype: int64\n"
     ]
    }
   ],
   "source": [
    "missing = df.isnull().sum()\n",
    "print(\"Missing Values:\\n\",end=\"\")\n",
    "print(missing)"
   ]
  },
  {
   "cell_type": "markdown",
   "id": "41125d53-25c8-4e63-a147-2a29639af3a4",
   "metadata": {},
   "source": [
    "## 5. Field Types and Unique Values"
   ]
  },
  {
   "cell_type": "code",
   "execution_count": 84,
   "id": "e77a9a1d-7070-48b2-926b-72cd3827bc2f",
   "metadata": {},
   "outputs": [
    {
     "name": "stdout",
     "output_type": "stream",
     "text": [
      "Unnamed: 0 - Unique Values: 53043\n",
      "statement - Unique Values: 51073\n",
      "status - Unique Values: 7\n"
     ]
    }
   ],
   "source": [
    "for col in df.columns:\n",
    "    print(f\"{col} - Unique Values: {df[col].nunique()}\")"
   ]
  },
  {
   "cell_type": "markdown",
   "id": "06d95394-9e93-44ec-9233-815114e2349e",
   "metadata": {},
   "source": [
    "## 6. Label/Class Distribution"
   ]
  },
  {
   "cell_type": "code",
   "execution_count": 86,
   "id": "8fabcb5b-474f-4d0d-b9b6-c23d1d5f07ca",
   "metadata": {},
   "outputs": [
    {
     "data": {
      "image/png": "[encoded data removed]",
      "text/plain": [
       "<Figure size 800x400 with 1 Axes>"
      ]
     },
     "metadata": {},
     "output_type": "display_data"
    },
    {
     "name": "stdout",
     "output_type": "stream",
     "text": [
      "status\n",
      "Normal                  16351\n",
      "Depression              15404\n",
      "Suicidal                10653\n",
      "Anxiety                  3888\n",
      "Bipolar                  2877\n",
      "Stress                   2669\n",
      "Personality disorder     1201\n",
      "Name: count, dtype: int64\n"
     ]
    }
   ],
   "source": [
    "plt.figure(figsize=(8,4))\n",
    "sns.countplot(x='status', data=df)\n",
    "plt.title(\"Label/Class Distribution\")\n",
    "plt.xticks(rotation=45)\n",
    "plt.show()\n",
    "print(df['status'].value_counts())"
   ]
  },
  {
   "cell_type": "markdown",
   "id": "43f23e24-1364-43a2-a0ff-16d2e5190265",
   "metadata": {},
   "source": [
    "## 7. Analysis of Text Length"
   ]
  },
  {
   "cell_type": "code",
   "execution_count": 88,
   "id": "6db8f56d-ef91-47ef-8acd-7cabc4f448b8",
   "metadata": {},
   "outputs": [
    {
     "data": {
      "image/png": "[encoded data removed]",
      "text/plain": [
       "<Figure size 640x480 with 1 Axes>"
      ]
     },
     "metadata": {},
     "output_type": "display_data"
    }
   ],
   "source": [
    "df['text_length'] = df['statement'].astype(str).apply(len)\n",
    "plt.hist(df['text_length'], bins=30, color='skyblue')\n",
    "plt.title(\"Distribution of Text Lengths\")\n",
    "plt.xlabel(\"Length\")\n",
    "plt.ylabel(\"Count\")\n",
    "plt.show()"
   ]
  },
  {
   "cell_type": "code",
   "execution_count": 89,
   "id": "daee5823-c5e2-47f7-b886-5aa8c385ba55",
   "metadata": {},
   "outputs": [
    {
     "name": "stdout",
     "output_type": "stream",
     "text": [
      "Mean length: 574.7848160926042\n",
      "Max length: 32759\n"
     ]
    }
   ],
   "source": [
    "print(\"Mean length:\", df['text_length'].mean())\n",
    "print(\"Max length:\", df['text_length'].max())"
   ]
  },
  {
   "cell_type": "markdown",
   "id": "7763c870-0ff2-4347-a442-4bef35beaecc",
   "metadata": {},
   "source": [
    "## 8. Example Entries by Class"
   ]
  },
  {
   "cell_type": "code",
   "execution_count": 91,
   "id": "ba524751-8402-4f50-aadd-4001638c510f",
   "metadata": {},
   "outputs": [
    {
     "name": "stdout",
     "output_type": "stream",
     "text": [
      "\n",
      "Example for Anxiety:\n",
      "oh my gosh\n",
      "\n",
      "Example for Normal:\n",
      "Gr gr dreaming of ex crush to be my game, God\n",
      "\n",
      "Example for Depression:\n",
      "I recently went through a breakup and she said she still wants to be friends so I said I can try doing that but when she talks to me about things it always hurts. I just want to lose feelings so all this pain can stop it hurts so much and I cannot even cry about it. I do not want to hurt her because she said she does not want to never speak to me again but I do not know what to do here. When we were together she always hurt me so I do not know why I still love her. I wish we never met it would be much less painful How do I lose feelings?\n",
      "\n",
      "Example for Suicidal:\n",
      "I am so exhausted of this. Just when I think I can finally rest, just when I think maybe things are starting to settle, another hurdle comes flying at me. This month alone we found out my mum could be dying, my girlfriend left me, my parents revealed that they wanted a divorce, my grandad was hospitalised again and just now my little sister's been rushed to A&amp;E with possible brain damage. If there is a god up there they must fucking hate me. it is like life is trying to get me to kill myself and honestly I think I would be better off dead. I attempted when I was 12 but I was stupid and there was no way I could cut deep enough. Now I am 15 and everything is so much worse than it ever has been and I just cannot hold on much longer -- it is going to take a miracle to get me through this. I feel so alone. I feel like the world hates me and I have no idea what I did wrong to deserve this. I thought I was getting better. I was doing so well and now everything's just come crashing down again. I was thinking about carbon monoxide poisoning but I highly doubt there is any way for me to get that. it is looking like I will overdose but that is unreliable as fuck and surviving sounds like hell so idk. Just got to stick around long enough to make sure my sister's alright. I have already contacted one of my ex's friends to make sure they are looked after when I am gone. I do not think there is long left for me. Sorry. I have posted on this subreddit too many times in the span of a week and that is probably really annoying I just have absolutely no idea what to do anymore. I feel sick. If my sister dies then I really cannot do this anymore. It all hurts. Life is really fucking trying me\n",
      "\n",
      "Example for Stress:\n",
      "He said he had not felt that way before, suggeted I go rest and so ..TRIGGER AHEAD IF YOUI'RE A HYPOCONDRIAC LIKE ME: i decide to look up \"feelings of doom\" in hopes of maybe getting sucked into some rabbit hole of ludicrous conspiracy, a stupid \"are you psychic\" test or new age b.s., something I could even laugh at down the road. No, I ended up reading that this sense of doom can be indicative of various health ailments; one of which I am prone to.. So on top of my \"doom\" to my gloom..I am now f'n worried about my heart. I do happen to have a physical in 48 hours.\n",
      "\n",
      "Example for Bipolar:\n",
      "What birth control are you on? I tried an IUD but it came out after a traumatic assault. I was taking microgestion but even at the lowest dose of hormones I had a bad reaction. Yet some how depo provera doesn't affect my mood, but I absolutely hate not having my period. \n",
      "\n",
      "Huff. \n",
      "\n",
      "I hate condoms, I don't even trust them. I'm on the fence about getting fixed, not even sure Medicaid would cover it anyway. \n",
      "\n",
      "What's a girl to do? \n",
      "\n",
      "If it matters any I was not on any birth control after getting on lamictal, which is my only script and I've been doing -amazingly- well on it. \n",
      "\n",
      "Example for Personality disorder:\n",
      "Is there anyone interested in joining a group for AvPD on Telegram? **Edit:** The Telegram group has been created, here's the invitation link: https://t.me/+r_m6p58MZUhmZDdk\n",
      "\n",
      "- Number of members as of 2022/07/30: **71**\n",
      "- Number of members as of 2022/09/26: **158**\n",
      "- Number of members as of 2022/12/25: **219**\n",
      "\n",
      "We created a [Telegram](https://www.telegram.org/) group/room for people with AvPD who want to talk to other people with AvPD, to break the loneliness, pass the time, make friends or just lurk.\n",
      "\n",
      "Please introduce yourself briefly (for instance: name, age, sex, country, languages spoken, hobbies) when joining the group. Also, remember to welcome people who just joined the group.\n",
      "\n",
      "If you have any suggestions or ideas to improve (in quality) the group, if you want to create an event or anything that might improve the experience of the group, feel free to share them in the group and ping me.\n",
      "\n",
      "[Telegram](https://telegram.org/) is available on PC (Windows), macOS, Linux, iPhone (iOS), iPad (iOS) and Android phones and tablets. There's also a Web version (but you first need to install it on one of your devices to use it).\n",
      "\n",
      "**Note:** You can also speak your native language in this group (if at least one other member also speak it).\n"
     ]
    }
   ],
   "source": [
    "for label in df['status'].unique():\n",
    "    print(f\"\\nExample for {label}:\")\n",
    "    print(df[df['status'] == label]['statement'].iloc[0])"
   ]
  },
  {
   "cell_type": "markdown",
   "id": "b3529cb0-971c-4ea8-babe-ac7e391d5ea4",
   "metadata": {},
   "source": [
    "## 10. Exporting Summary Statistics"
   ]
  },
  {
   "cell_type": "code",
   "execution_count": 93,
   "id": "d5acec79-8b62-4f67-8ace-397d36e5a776",
   "metadata": {
    "scrolled": true
   },
   "outputs": [
    {
     "name": "stdout",
     "output_type": "stream",
     "text": [
      "          Unnamed: 0          statement  status   text_length\n",
      "count   53043.000000              52681   53043  53043.000000\n",
      "unique           NaN              51073       7           NaN\n",
      "top              NaN  what do you mean?  Normal           NaN\n",
      "freq             NaN                 22   16351           NaN\n",
      "mean    26521.000000                NaN     NaN    574.784816\n",
      "std     15312.339501                NaN     NaN    844.707198\n",
      "min         0.000000                NaN     NaN      2.000000\n",
      "25%     13260.500000                NaN     NaN     77.000000\n",
      "50%     26521.000000                NaN     NaN    313.000000\n",
      "75%     39781.500000                NaN     NaN    748.000000\n",
      "max     53042.000000                NaN     NaN  32759.000000\n"
     ]
    }
   ],
   "source": [
    "summary = df.describe(include='all')\n",
    "summary.to_csv('dataset_summary.csv')\n",
    "print(summary)"
   ]
  }
 ],
 "metadata": {
  "kernelspec": {
   "display_name": "Python 3 (ipykernel)",
   "language": "python",
   "name": "python3"
  },
  "language_info": {
   "codemirror_mode": {
    "name": "ipython",
    "version": 3
   },
   "file_extension": ".py",
   "mimetype": "text/x-python",
   "name": "python",
   "nbconvert_exporter": "python",
   "pygments_lexer": "ipython3",
   "version": "3.12.4"
  }
 },
 "nbformat": 4,
 "nbformat_minor": 5
}
